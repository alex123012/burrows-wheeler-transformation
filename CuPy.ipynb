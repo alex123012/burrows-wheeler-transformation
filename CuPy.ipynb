{
  "nbformat": 4,
  "nbformat_minor": 0,
  "metadata": {
    "colab": {
      "name": "CuPy.ipynb",
      "provenance": [],
      "collapsed_sections": [],
      "authorship_tag": "ABX9TyNdyb89krvRkwENS56Fwnhy",
      "include_colab_link": true
    },
    "kernelspec": {
      "name": "python3",
      "display_name": "Python 3"
    },
    "accelerator": "GPU"
  },
  "cells": [
    {
      "cell_type": "markdown",
      "metadata": {
        "id": "view-in-github",
        "colab_type": "text"
      },
      "source": [
        "<a href=\"https://colab.research.google.com/github/alex123012/burrows-wheeler-transformation/blob/master/CuPy.ipynb\" target=\"_parent\"><img src=\"https://colab.research.google.com/assets/colab-badge.svg\" alt=\"Open In Colab\"/></a>"
      ]
    },
    {
      "cell_type": "code",
      "metadata": {
        "id": "LL6EpCRr-bAE",
        "colab_type": "code",
        "outputId": "01ed2dc7-b5aa-4301-beba-7d5d4ce1a6af",
        "colab": {
          "base_uri": "https://localhost:8080/",
          "height": 279
        }
      },
      "source": [
        "!pip install -U setuptools pip wheel\n",
        "!pip install cupy-cuda101"
      ],
      "execution_count": 1,
      "outputs": [
        {
          "output_type": "stream",
          "text": [
            "Requirement already up-to-date: setuptools in /usr/local/lib/python3.6/dist-packages (47.1.1)\n",
            "Collecting pip\n",
            "\u001b[?25l  Downloading https://files.pythonhosted.org/packages/43/84/23ed6a1796480a6f1a2d38f2802901d078266bda38388954d01d3f2e821d/pip-20.1.1-py2.py3-none-any.whl (1.5MB)\n",
            "\u001b[K     |████████████████████████████████| 1.5MB 4.6MB/s \n",
            "\u001b[?25hRequirement already up-to-date: wheel in /usr/local/lib/python3.6/dist-packages (0.34.2)\n",
            "Installing collected packages: pip\n",
            "  Found existing installation: pip 19.3.1\n",
            "    Uninstalling pip-19.3.1:\n",
            "      Successfully uninstalled pip-19.3.1\n",
            "Successfully installed pip-20.1.1\n",
            "Requirement already satisfied: cupy-cuda101 in /usr/local/lib/python3.6/dist-packages (6.5.0)\n",
            "Requirement already satisfied: numpy>=1.9.0 in /usr/local/lib/python3.6/dist-packages (from cupy-cuda101) (1.18.5)\n",
            "Requirement already satisfied: six>=1.9.0 in /usr/local/lib/python3.6/dist-packages (from cupy-cuda101) (1.12.0)\n",
            "Requirement already satisfied: fastrlock>=0.3 in /usr/local/lib/python3.6/dist-packages (from cupy-cuda101) (0.4)\n"
          ],
          "name": "stdout"
        }
      ]
    },
    {
      "cell_type": "code",
      "metadata": {
        "id": "fZ4L6Ua7QwRU",
        "colab_type": "code",
        "colab": {}
      },
      "source": [
        "import numpy as np\n",
        "import cupy as cp"
      ],
      "execution_count": 0,
      "outputs": []
    },
    {
      "cell_type": "code",
      "metadata": {
        "id": "kxf7S4Ne9yCq",
        "colab_type": "code",
        "colab": {}
      },
      "source": [
        "def BWT_trans(string):\n",
        "    # Перевод строки в список чисел по юникоду\n",
        "    str_list = [ord(i) for i in string]\n",
        "\n",
        "    # Переход к массиву на GPU\n",
        "    s_arr = cp.array(str_list)\n",
        "    # Создание матрицы со сдвигом\n",
        "    # Пояснение:\n",
        "    # сдвиг матрицы происходит на устройстве, потом переводится в список на хост\n",
        "    # и затем снова в массив на устройстве (делается из-за проблем с отсутствием\n",
        "    # поддержки типа списков с нечисловыми элементами)\n",
        "    s_mat = cp.array([cp.roll(s_arr, i).tolist() for i in range(0,len(s_arr))])\n",
        "    # Сортировка по индексам столбцов\n",
        "    # Пояснение: аналогично вышенаписанному\n",
        "    i = cp.lexsort(cp.array(\n",
        "        [s_mat[:,i].tolist() for i in range(len(s_arr)-1, -1, -1)]))\n",
        "    s_mat = s_mat[i]\n",
        "    \n",
        "    # Обратный перевод чисел в симвлы по юникоду\n",
        "    str_list = [chr(i) for i in s_mat[:,-1].tolist()]\n",
        "    #Чтобы можно было и в переменную записать, и на экран сразу вывести\n",
        "    print(''.join(str_list), cp.where(cp.all(s_arr==s_mat, axis=1))[0].item())\n",
        "    return (''.join(str_list), cp.where(cp.all(s_arr==s_mat, axis=1))[0].item())"
      ],
      "execution_count": 0,
      "outputs": []
    },
    {
      "cell_type": "code",
      "metadata": {
        "id": "Q5btime--B0u",
        "colab_type": "code",
        "colab": {
          "base_uri": "https://localhost:8080/",
          "height": 54
        },
        "outputId": "17712912-a9e5-417f-e6ae-b0c61cca4564"
      },
      "source": [
        "BWT_trans('abrakadabra')"
      ],
      "execution_count": 4,
      "outputs": [
        {
          "output_type": "stream",
          "text": [
            "rdakraaaabb 2\n"
          ],
          "name": "stdout"
        },
        {
          "output_type": "execute_result",
          "data": {
            "text/plain": [
              "('rdakraaaabb', 2)"
            ]
          },
          "metadata": {
            "tags": []
          },
          "execution_count": 4
        }
      ]
    },
    {
      "cell_type": "code",
      "metadata": {
        "id": "eG2nqOKr9-qD",
        "colab_type": "code",
        "colab": {}
      },
      "source": [
        "def BWT_rever(string, ind):\n",
        "    # Перевод строки в список чисел по юникоду\n",
        "    str_list = [ord(i) for i in string]\n",
        "\n",
        "    # Переход к массиву на GPU\n",
        "    # Массив с последовательностью введенной строки\n",
        "    s_arr = cp.array(str_list)\n",
        "    # отсортированная последовательность\n",
        "    sorted_s = cp.array(sorted(str_list))\n",
        "    # Просто слияние двух предыдущих массивов\n",
        "    tab_s = cp.vstack((s_arr, sorted_s))\n",
        "    for i in range(1, len(s_arr)-1):\n",
        "        # Сортировка, с получением индексов\n",
        "        # массива tab_s для ново1 строки, хотя фактически - столбца\n",
        "        # (метод .T меняет оси массива местами)\n",
        "        # Пояснение:\n",
        "        # сдвиг матрицы происходит на устройстве, потом переводится в список на хост\n",
        "        # и затем снова в массив на устройстве (делается из-за проблем с отсутствием\n",
        "        # поддержки типа списков с нечисловыми элементами)\n",
        "        j = cp.lexsort(cp.array([tab_s.T[:,i].tolist() for i in range(i, -1, -1)]))\n",
        "        # Добавление отсортированной строки к массиву\n",
        "        tab_s = cp.vstack((s_arr,tab_s.T[j].T))\n",
        "    # Сортировка последней строки\n",
        "    j = cp.lexsort(cp.array([tab_s.T[:,i].tolist() for i in range(len(s_arr)-1, -1, -1)]))\n",
        "\n",
        "    # Обратный перевод чисел в симвлы по юникоду\n",
        "    str_list = [chr(i) for i in tab_s.T[j][ind]]\n",
        "    #Чтобы можно было и в переменную записать, и на экран сразу вывести\n",
        "    print(''.join(str_list))\n",
        "    return ''.join(str_list)"
      ],
      "execution_count": 0,
      "outputs": []
    },
    {
      "cell_type": "code",
      "metadata": {
        "id": "JSSw96tD-A_q",
        "colab_type": "code",
        "colab": {
          "base_uri": "https://localhost:8080/",
          "height": 54
        },
        "outputId": "c8eab358-900f-44f6-a1df-e370cd39341e"
      },
      "source": [
        "BWT_rever('rdakraaaabb', 2)"
      ],
      "execution_count": 12,
      "outputs": [
        {
          "output_type": "stream",
          "text": [
            "abrakadabra\n"
          ],
          "name": "stdout"
        },
        {
          "output_type": "execute_result",
          "data": {
            "text/plain": [
              "'abrakadabra'"
            ]
          },
          "metadata": {
            "tags": []
          },
          "execution_count": 12
        }
      ]
    },
    {
      "cell_type": "code",
      "metadata": {
        "id": "6nLxtogAAcs4",
        "colab_type": "code",
        "colab": {}
      },
      "source": [
        ""
      ],
      "execution_count": 0,
      "outputs": []
    }
  ]
}